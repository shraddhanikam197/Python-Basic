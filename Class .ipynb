{
 "cells": [
  {
   "cell_type": "code",
   "execution_count": 1,
   "id": "00304b24",
   "metadata": {},
   "outputs": [],
   "source": [
    "class Rectangle :\n",
    "    def __init__(self,length,width):\n",
    "          \"this funtion is used to get length and width of ractangle\" \n",
    "        self.length = length\n",
    "        self.width = width\n",
    "    def output(self):\n",
    "        print(\"length of rect is :\",self.length)\n",
    "        print(\"width of rect is :\",self.width)"
   ]
  },
  {
   "cell_type": "code",
   "execution_count": 2,
   "id": "b23393d3",
   "metadata": {},
   "outputs": [
    {
     "name": "stdout",
     "output_type": "stream",
     "text": [
      "length of rect is : 20\n",
      "width of rect is : 25\n"
     ]
    }
   ],
   "source": [
    "r = Rectangle(20,25)\n",
    "r.output()"
   ]
  },
  {
   "cell_type": "code",
   "execution_count": 4,
   "id": "11c88203",
   "metadata": {},
   "outputs": [
    {
     "name": "stdout",
     "output_type": "stream",
     "text": [
      "length of rect is : 10\n",
      "width of rect is : 15\n"
     ]
    }
   ],
   "source": [
    "class Rectangle :\n",
    "    def __init__(self,length = 10,width = 15):\n",
    "           \"this funtion is used to get length and width of ractangle\" \n",
    "        self.length = length\n",
    "        self.width = width\n",
    "    def output(self):\n",
    "        print(\"length of rect is :\",self.length)\n",
    "        print(\"width of rect is :\",self.width)\n",
    "r = Rectangle()\n",
    "r.output()"
   ]
  },
  {
   "cell_type": "code",
   "execution_count": 5,
   "id": "dc7fda6e",
   "metadata": {},
   "outputs": [
    {
     "name": "stdout",
     "output_type": "stream",
     "text": [
      "length of rect is : 47\n",
      "width of rect is : 48\n"
     ]
    }
   ],
   "source": [
    "class Rectangle :\n",
    "    def __init__(self,length = 10,width = 15):\n",
    "       \"this funtion is used to get length and width of ractangle\" \n",
    "        self.length = length\n",
    "        self.width = width\n",
    "    def output(self):\n",
    "        print(\"length of rect is :\",self.length)\n",
    "        print(\"width of rect is :\",self.width)\n",
    "r = Rectangle(47,48)\n",
    "r.output()"
   ]
  },
  {
   "cell_type": "code",
   "execution_count": 8,
   "id": "6f5c5030",
   "metadata": {},
   "outputs": [],
   "source": [
    "class Rectangle :\n",
    "    def __init__(self,length = 10,width = 15):\n",
    "            \"this funtion is used to get length and width of ractangle\" \n",
    "        self.length = length\n",
    "        self.width = width\n",
    "    def output(self):\n",
    "        print(\"length of ractangle is :\",self.length)\n",
    "        print(\"width of ractangle is :\", self.width)\n",
    "    def area(self):\n",
    "            \"this funtion is used to get area of ractangle\" \n",
    "        print (\"area of ractangle is :\",self.length * self.width)"
   ]
  },
  {
   "cell_type": "code",
   "execution_count": 12,
   "id": "45112e3a",
   "metadata": {},
   "outputs": [
    {
     "name": "stdout",
     "output_type": "stream",
     "text": [
      "length of ractangle is : 10\n",
      "width of ractangle is : 15\n",
      "area of ractangle is : 150\n"
     ]
    }
   ],
   "source": [
    "r = Rectangle()\n",
    "r.output()\n",
    "r.area()"
   ]
  },
  {
   "cell_type": "code",
   "execution_count": 13,
   "id": "b0662c11",
   "metadata": {},
   "outputs": [],
   "source": [
    " # 4 type of classes \n",
    "    \n",
    "# 1 - Polymorphism\n",
    "# 2 - Inheritance\n",
    "# 3 - Encapsulation\n",
    "# 4 - Abstraction "
   ]
  },
  {
   "cell_type": "code",
   "execution_count": 14,
   "id": "f70fad35",
   "metadata": {},
   "outputs": [],
   "source": [
    "# 1 - Polymorphism \n",
    "# (same function with different meaning)"
   ]
  },
  {
   "cell_type": "code",
   "execution_count": 47,
   "id": "243e0e63",
   "metadata": {},
   "outputs": [
    {
     "name": "stdout",
     "output_type": "stream",
     "text": [
      "name of cat is : herry\n"
     ]
    }
   ],
   "source": [
    "class Cat(): \n",
    "    \"this class is used to get cat infoemation\"\n",
    "    def __init__(self,name):\n",
    "         \"this funtion is used to get name of cat\" \n",
    "        self.name = name\n",
    "    def display(self):\n",
    "        print(\"name of cat is :\",self.name)\n",
    "c = Cat(\"herry\") \n",
    "c.display()"
   ]
  },
  {
   "cell_type": "code",
   "execution_count": 43,
   "id": "d7451478",
   "metadata": {},
   "outputs": [
    {
     "name": "stdout",
     "output_type": "stream",
     "text": [
      "name of dog is : Twinkle\n"
     ]
    }
   ],
   "source": [
    "class Dog():\n",
    "     \"this class is used to get dog infoemation\"\n",
    "    def __init__(self,name):\n",
    "         \"this funtion is used to get name of dog\" \n",
    "        self.name= name\n",
    "    def display(self):\n",
    "        print(\"name of dog is :\",self.name)\n",
    "d = Dog(\"Twinkle\") \n",
    "d.display()"
   ]
  },
  {
   "cell_type": "code",
   "execution_count": 44,
   "id": "21666606",
   "metadata": {},
   "outputs": [],
   "source": [
    "def abc(a):\n",
    "    a.display()"
   ]
  },
  {
   "cell_type": "code",
   "execution_count": 45,
   "id": "8662f8f3",
   "metadata": {},
   "outputs": [
    {
     "name": "stdout",
     "output_type": "stream",
     "text": [
      "name of cat is : herry\n",
      "name of cat is : herry\n"
     ]
    }
   ],
   "source": [
    "abc(c)\n",
    "c.display()"
   ]
  },
  {
   "cell_type": "code",
   "execution_count": 46,
   "id": "9b5fbf39",
   "metadata": {},
   "outputs": [
    {
     "name": "stdout",
     "output_type": "stream",
     "text": [
      "name of dog is : Twinkle\n",
      "name of dog is : Twinkle\n"
     ]
    }
   ],
   "source": [
    "abc(d)\n",
    "d.display()"
   ]
  },
  {
   "cell_type": "code",
   "execution_count": null,
   "id": "ab8b9946",
   "metadata": {},
   "outputs": [],
   "source": [
    "# 2 - Inheritance \n",
    "#         single inheritance\n",
    "#         hiretical inheritance\n",
    "#         multiple inheritance\n",
    "#         multilevel inheritance\n",
    "#         hybrid inheritance"
   ]
  },
  {
   "cell_type": "code",
   "execution_count": 55,
   "id": "b4c68cf8",
   "metadata": {},
   "outputs": [
    {
     "name": "stdout",
     "output_type": "stream",
     "text": [
      "Employee name is : sanu\n",
      "Employee age is : 20\n"
     ]
    }
   ],
   "source": [
    "# single inheritance   - class A info add class B \n",
    "class Employee :\n",
    "    def __init__(self,name,age):\n",
    "        self.name = name\n",
    "        self.age = age\n",
    "    def info(self):\n",
    "        print(\"Employee name is :\",self.name)\n",
    "        print(\"Employee age is :\",self.age)\n",
    "e = Employee(\"sanu\",20)  \n",
    "e.info()"
   ]
  },
  {
   "cell_type": "code",
   "execution_count": 75,
   "id": "2b928b75",
   "metadata": {},
   "outputs": [
    {
     "name": "stdout",
     "output_type": "stream",
     "text": [
      "Employee name is : sanu\n",
      "Employee age is : 20\n",
      "Role for this Employee is : trainer\n"
     ]
    }
   ],
   "source": [
    "class Trainer(Employee):\n",
    "    def __init__(self,name,age,role):\n",
    "        Employee.__init__(self,name,age)\n",
    "        self.role = role\n",
    "    def info(self):\n",
    "        Employee.info(self)\n",
    "        print(\"Role for this Employee is :\",self.role)\n",
    "t = Trainer(\"sanu\",20,'trainer') \n",
    "t.info()"
   ]
  },
  {
   "cell_type": "code",
   "execution_count": 87,
   "id": "d80634fe",
   "metadata": {},
   "outputs": [
    {
     "name": "stdout",
     "output_type": "stream",
     "text": [
      "Employee name is : sanu\n",
      "Employee age is : 20\n",
      "Role for this Employee is : trainer\n",
      "salary of sanu is: 25000\n"
     ]
    }
   ],
   "source": [
    "# multilevel inheritance  - class A info add class B ,class B info add class C in thids way \n",
    "class Manager:\n",
    "    def __init__(self,name,age,role,salary):\n",
    "        Trainer.__init__(self,name,age,role)\n",
    "        self.salary = salary\n",
    "    def info(self):\n",
    "        Trainer.info(self)\n",
    "        print(\"salary of\",self.name ,\"is:\", self.salary)\n",
    "m = Manager(\"sanu\",20,\"trainer\",25000)        \n",
    "m.info()\n"
   ]
  },
  {
   "cell_type": "code",
   "execution_count": null,
   "id": "bc23a511",
   "metadata": {},
   "outputs": [],
   "source": []
  },
  {
   "cell_type": "code",
   "execution_count": 103,
   "id": "3cebf915",
   "metadata": {},
   "outputs": [
    {
     "name": "stdout",
     "output_type": "stream",
     "text": [
      "eyes of father is : brown\n",
      "hair of father is : curly\n"
     ]
    }
   ],
   "source": [
    "class Father() :\n",
    "    def __init__(self,eyes,hair):\n",
    "        self.eyes = eyes\n",
    "        self.hair = hair\n",
    "    def info(self):\n",
    "        print(\"eyes of father is :\",self.eyes)\n",
    "        print(\"hair of father is :\",self.hair)\n",
    "f = Father(\"brown\",\"curly\")        \n",
    "f.info()"
   ]
  },
  {
   "cell_type": "code",
   "execution_count": 104,
   "id": "c09d36d5",
   "metadata": {},
   "outputs": [
    {
     "name": "stdout",
     "output_type": "stream",
     "text": [
      "height of mother is : tall\n"
     ]
    }
   ],
   "source": [
    "class Mother() :\n",
    "    def __init__(self,height):\n",
    "        self.height = height\n",
    "    def info(self):\n",
    "        print(\"height of mother is :\",self.height)\n",
    "m = Mother(\"tall\")\n",
    "m.info()       "
   ]
  },
  {
   "cell_type": "code",
   "execution_count": 110,
   "id": "6e77f4a2",
   "metadata": {},
   "outputs": [],
   "source": [
    "class Son(Father,Mother):\n",
    "    def __init__(self,name ,eyes,hair,height,IQ):\n",
    "        Father.__init__(self,eyes,hair)\n",
    "        Mother.__init__(self,height)\n",
    "        self.name = name\n",
    "        self.IQ = IQ\n",
    "    def info(self):\n",
    "        Father.info(self)\n",
    "        Mother.info(self)\n",
    "        print(\"name of son is :\",self.name)\n",
    "        print(\"IQ level of\",self.name,\"is:\",self.IQ)"
   ]
  },
  {
   "cell_type": "code",
   "execution_count": null,
   "id": "8f03b384",
   "metadata": {},
   "outputs": [],
   "source": []
  },
  {
   "cell_type": "code",
   "execution_count": null,
   "id": "f08d3f0a",
   "metadata": {},
   "outputs": [],
   "source": [
    "# 3 - Encapsulation \n",
    "# (variable-private and public)"
   ]
  },
  {
   "cell_type": "code",
   "execution_count": 24,
   "id": "b31bdc08",
   "metadata": {},
   "outputs": [],
   "source": [
    "a = 10"
   ]
  },
  {
   "cell_type": "code",
   "execution_count": 25,
   "id": "cccb3255",
   "metadata": {},
   "outputs": [
    {
     "name": "stdout",
     "output_type": "stream",
     "text": [
      "10\n"
     ]
    }
   ],
   "source": [
    "print(a)"
   ]
  },
  {
   "cell_type": "code",
   "execution_count": 26,
   "id": "115fd93a",
   "metadata": {},
   "outputs": [
    {
     "data": {
      "text/plain": [
       "2663961750096"
      ]
     },
     "execution_count": 26,
     "metadata": {},
     "output_type": "execute_result"
    }
   ],
   "source": [
    "id(a)"
   ]
  },
  {
   "cell_type": "code",
   "execution_count": 28,
   "id": "e856e188",
   "metadata": {},
   "outputs": [
    {
     "name": "stdout",
     "output_type": "stream",
     "text": [
      "value of a is : 10\n",
      "ID of a is: 2663961750096\n"
     ]
    }
   ],
   "source": [
    "class Encap:\n",
    "    def __init__(self,a):\n",
    "        self.a = a\n",
    "    def display(self):\n",
    "        print(\"value of a is :\",self.a)\n",
    "        print(\"ID of a is:\",id(self.a))\n",
    "e = Encap(10)\n",
    "e.display()"
   ]
  },
  {
   "cell_type": "code",
   "execution_count": 62,
   "id": "b0982b21",
   "metadata": {},
   "outputs": [],
   "source": [
    "class Bank:\n",
    "    def __init__(self,name,acc_no,balance):\n",
    "        self.name = name\n",
    "        self.acc_no = acc_no\n",
    "        self.__balance = balance\n",
    "    def info(self):\n",
    "        print(\"account name is:\",self.name)\n",
    "        print(\"account number of \",self.name,\"is:\",self.acc_no)\n",
    "        print(\"account balance is :\",self.__balance)\n",
    "    def deposite(self,amt):\n",
    "        self.__balance += amt\n",
    "    def withdraw(self,amt):\n",
    "        self.__balance -= amt\n",
    "    def updated_balance(self):\n",
    "        print(\"current balance is:\",self.__balance)"
   ]
  },
  {
   "cell_type": "code",
   "execution_count": 63,
   "id": "cb30a004",
   "metadata": {},
   "outputs": [
    {
     "name": "stdout",
     "output_type": "stream",
     "text": [
      "account name is: sid\n",
      "account number of  sid is: 12121\n",
      "account balance is : 10000\n"
     ]
    }
   ],
   "source": [
    "b = Bank(\"sid\",12121,10000)\n",
    "b.info()"
   ]
  },
  {
   "cell_type": "code",
   "execution_count": 66,
   "id": "60a2b854",
   "metadata": {},
   "outputs": [
    {
     "name": "stdout",
     "output_type": "stream",
     "text": [
      "current balance is: 18000\n"
     ]
    }
   ],
   "source": [
    "b.deposite(5000)\n",
    "b.updated_balance()"
   ]
  },
  {
   "cell_type": "code",
   "execution_count": 65,
   "id": "017bf8a3",
   "metadata": {},
   "outputs": [
    {
     "name": "stdout",
     "output_type": "stream",
     "text": [
      "current balance is: 13000\n"
     ]
    }
   ],
   "source": [
    "b.withdraw(2000)\n",
    "b.updated_balance()"
   ]
  },
  {
   "cell_type": "code",
   "execution_count": 67,
   "id": "be46ed5d",
   "metadata": {},
   "outputs": [],
   "source": [
    "# 4 - Abstraction"
   ]
  },
  {
   "cell_type": "code",
   "execution_count": 75,
   "id": "1a195040",
   "metadata": {},
   "outputs": [],
   "source": [
    "from abc import ABC"
   ]
  },
  {
   "cell_type": "code",
   "execution_count": 76,
   "id": "3a66017f",
   "metadata": {},
   "outputs": [],
   "source": [
    "class Car(ABC):\n",
    "    def price(self):\n",
    "        pass"
   ]
  },
  {
   "cell_type": "code",
   "execution_count": 77,
   "id": "00255119",
   "metadata": {},
   "outputs": [],
   "source": [
    "class Honda(Car):    \n",
    "    def price(self):\n",
    "        print(\"price of Honda is 6 lac\")\n",
    "class BMW(Car):    \n",
    "    def price(self):\n",
    "        print(\"bmw of BMW is 60 lac\")\n",
    "class Maruti(Car):    \n",
    "    def price(self):\n",
    "        print(\"price of Maruti is 10 lac\")\n",
    "class Tesla(Car):    \n",
    "    def price(self):\n",
    "        print(\"price of Tesla is 90 lac\")                                "
   ]
  },
  {
   "cell_type": "code",
   "execution_count": 78,
   "id": "fc438ecd",
   "metadata": {},
   "outputs": [
    {
     "name": "stdout",
     "output_type": "stream",
     "text": [
      "price of Honda is 6 lac\n"
     ]
    }
   ],
   "source": [
    "h = Honda() \n",
    "h.price()"
   ]
  },
  {
   "cell_type": "code",
   "execution_count": null,
   "id": "0c7d250e",
   "metadata": {},
   "outputs": [],
   "source": []
  },
  {
   "cell_type": "code",
   "execution_count": null,
   "id": "c1f7ed7a",
   "metadata": {},
   "outputs": [],
   "source": []
  },
  {
   "cell_type": "code",
   "execution_count": null,
   "id": "25795caf",
   "metadata": {},
   "outputs": [],
   "source": []
  },
  {
   "cell_type": "code",
   "execution_count": null,
   "id": "e3203d61",
   "metadata": {},
   "outputs": [],
   "source": []
  }
 ],
 "metadata": {
  "kernelspec": {
   "display_name": "Python 3 (ipykernel)",
   "language": "python",
   "name": "python3"
  },
  "language_info": {
   "codemirror_mode": {
    "name": "ipython",
    "version": 3
   },
   "file_extension": ".py",
   "mimetype": "text/x-python",
   "name": "python",
   "nbconvert_exporter": "python",
   "pygments_lexer": "ipython3",
   "version": "3.9.7"
  }
 },
 "nbformat": 4,
 "nbformat_minor": 5
}
