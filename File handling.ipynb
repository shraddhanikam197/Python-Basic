{
 "cells": [
  {
   "cell_type": "code",
   "execution_count": 1,
   "id": "8349d9ef",
   "metadata": {},
   "outputs": [
    {
     "data": {
      "text/plain": [
       "[1, 2, 3, 4, 5, 6]"
      ]
     },
     "execution_count": 1,
     "metadata": {},
     "output_type": "execute_result"
    }
   ],
   "source": [
    "l = [1,2,3,4,5,6]\n",
    "l"
   ]
  },
  {
   "cell_type": "raw",
   "id": "50b75cd9",
   "metadata": {},
   "source": [
    "Read  'r'\n",
    "write 'w'\n",
    "append 'a'\n",
    "create 'x'"
   ]
  },
  {
   "cell_type": "raw",
   "id": "7d152219",
   "metadata": {},
   "source": [
    "('abc.txt', 'r') - if available it will open or else i will get error.\n",
    "('abc.txt', 'w') - if available it will open or else it will create a new file of this name .\n",
    "('abc.txt', 'a') - if available it will open or else it will create a new file of this name .\n",
    "('abc.txt', 'x') - if available it will open or else i will create a new file.\n"
   ]
  },
  {
   "cell_type": "code",
   "execution_count": 6,
   "id": "302e1861",
   "metadata": {},
   "outputs": [],
   "source": [
    "f = open ('abc.txt','r')"
   ]
  },
  {
   "cell_type": "code",
   "execution_count": 1,
   "id": "248a8d6f",
   "metadata": {},
   "outputs": [],
   "source": [
    "f1 = open('abc1.txt','w')"
   ]
  },
  {
   "cell_type": "code",
   "execution_count": 2,
   "id": "45ae6068",
   "metadata": {},
   "outputs": [],
   "source": [
    "f2 = open ('abc2.text','x')"
   ]
  },
  {
   "cell_type": "code",
   "execution_count": 3,
   "id": "d2fa19c1",
   "metadata": {},
   "outputs": [
    {
     "ename": "UnsupportedOperation",
     "evalue": "not writable",
     "output_type": "error",
     "traceback": [
      "\u001b[1;31m---------------------------------------------------------------------------\u001b[0m",
      "\u001b[1;31mUnsupportedOperation\u001b[0m                      Traceback (most recent call last)",
      "\u001b[1;32m~\\AppData\\Local\\Temp/ipykernel_6124/1192718898.py\u001b[0m in \u001b[0;36m<module>\u001b[1;34m\u001b[0m\n\u001b[0;32m      1\u001b[0m \u001b[0mf\u001b[0m \u001b[1;33m=\u001b[0m \u001b[0mopen\u001b[0m \u001b[1;33m(\u001b[0m\u001b[1;34m'abc.txt'\u001b[0m\u001b[1;33m,\u001b[0m\u001b[1;34m'r'\u001b[0m\u001b[1;33m)\u001b[0m\u001b[1;33m\u001b[0m\u001b[1;33m\u001b[0m\u001b[0m\n\u001b[1;32m----> 2\u001b[1;33m \u001b[0mf\u001b[0m\u001b[1;33m.\u001b[0m\u001b[0mwrite\u001b[0m\u001b[1;33m(\u001b[0m\u001b[1;34m\"this is my file handling class\"\u001b[0m\u001b[1;33m)\u001b[0m\u001b[1;33m\u001b[0m\u001b[1;33m\u001b[0m\u001b[0m\n\u001b[0m",
      "\u001b[1;31mUnsupportedOperation\u001b[0m: not writable"
     ]
    }
   ],
   "source": [
    "f = open ('abc.txt','r')\n",
    "f.write(\"this is my file handling class\")"
   ]
  },
  {
   "cell_type": "code",
   "execution_count": 10,
   "id": "70a01430",
   "metadata": {},
   "outputs": [
    {
     "data": {
      "text/plain": [
       "30"
      ]
     },
     "execution_count": 10,
     "metadata": {},
     "output_type": "execute_result"
    }
   ],
   "source": [
    "f1 = open ('abc.txt','w')\n",
    "f1.write(\"this is my file handling class\")\n",
    "f1.write(\"this is my file handling class\")\n",
    "f1.write(\"this is my file handling class\")\n"
   ]
  },
  {
   "cell_type": "code",
   "execution_count": 11,
   "id": "f5224d59",
   "metadata": {},
   "outputs": [],
   "source": [
    "f1.close()"
   ]
  },
  {
   "cell_type": "code",
   "execution_count": 6,
   "id": "91fd054c",
   "metadata": {},
   "outputs": [
    {
     "ename": "ValueError",
     "evalue": "I/O operation on closed file.",
     "output_type": "error",
     "traceback": [
      "\u001b[1;31m---------------------------------------------------------------------------\u001b[0m",
      "\u001b[1;31mValueError\u001b[0m                                Traceback (most recent call last)",
      "\u001b[1;32m~\\AppData\\Local\\Temp/ipykernel_6124/3873942147.py\u001b[0m in \u001b[0;36m<module>\u001b[1;34m\u001b[0m\n\u001b[0;32m      1\u001b[0m \u001b[0mf1\u001b[0m\u001b[1;33m.\u001b[0m\u001b[0mclose\u001b[0m\u001b[1;33m(\u001b[0m\u001b[1;33m)\u001b[0m\u001b[1;33m\u001b[0m\u001b[1;33m\u001b[0m\u001b[0m\n\u001b[1;32m----> 2\u001b[1;33m \u001b[0mf1\u001b[0m\u001b[1;33m.\u001b[0m\u001b[0mwrite\u001b[0m \u001b[1;33m(\u001b[0m\u001b[1;34m\"this is my file handling class\"\u001b[0m\u001b[1;33m)\u001b[0m\u001b[1;33m\u001b[0m\u001b[1;33m\u001b[0m\u001b[0m\n\u001b[0m",
      "\u001b[1;31mValueError\u001b[0m: I/O operation on closed file."
     ]
    }
   ],
   "source": [
    "f1.close()                                           # whenever you close the file after you can not make any changes.\n",
    "f1.write (\"this is my file handling class\")"
   ]
  },
  {
   "cell_type": "code",
   "execution_count": 14,
   "id": "c94a27b1",
   "metadata": {},
   "outputs": [],
   "source": [
    "f1.close()\n",
    "f1 = open ('abc.txt','w')\n",
    "f1.write(\"this is my python class\")\n",
    "f1.close()"
   ]
  },
  {
   "cell_type": "code",
   "execution_count": 17,
   "id": "dc5ff657",
   "metadata": {},
   "outputs": [],
   "source": [
    "f = open ('xyz.txt','a')\n",
    "f.write(\"this is my python class\")\n",
    "f.close()"
   ]
  },
  {
   "cell_type": "code",
   "execution_count": 24,
   "id": "e35164e3",
   "metadata": {},
   "outputs": [],
   "source": [
    "f = open ('xyz.txt','a')\n",
    "f.write(\" this is my file handling class\\n\")\n",
    "f.close()"
   ]
  },
  {
   "cell_type": "code",
   "execution_count": null,
   "id": "595eb398",
   "metadata": {},
   "outputs": [],
   "source": [
    "'rt'= i will open a file in read format.\n",
    "'rb'= this file is different from txt file."
   ]
  },
  {
   "cell_type": "code",
   "execution_count": 25,
   "id": "11b49d6b",
   "metadata": {},
   "outputs": [],
   "source": [
    "f = open('abc.sam','x')"
   ]
  },
  {
   "cell_type": "code",
   "execution_count": 29,
   "id": "f163900c",
   "metadata": {},
   "outputs": [],
   "source": [
    "f1 = open('abc.txt')   # this file is open in read mode by default"
   ]
  },
  {
   "cell_type": "code",
   "execution_count": 34,
   "id": "f0dc508c",
   "metadata": {},
   "outputs": [],
   "source": [
    "l = [1,2,3,4,5,6]\n",
    "l1 = [1,2,3,4,5,2,1,3,5,4]"
   ]
  },
  {
   "cell_type": "code",
   "execution_count": 39,
   "id": "cf202c5c",
   "metadata": {},
   "outputs": [],
   "source": [
    "f1 = open('demo.txt','a')\n",
    "f1.write(\"input info: \")\n",
    "f1.write(str(l))\n",
    "f1.write(\"\\nOutput info: \")\n",
    "f1.write(str(l1))\n",
    "f1.write('\\ncompleted')\n",
    "f1.close ()"
   ]
  },
  {
   "cell_type": "code",
   "execution_count": 40,
   "id": "8e0b748d",
   "metadata": {},
   "outputs": [],
   "source": [
    "f = open('xyz.txt','r')\n"
   ]
  },
  {
   "cell_type": "code",
   "execution_count": 42,
   "id": "2a438e85",
   "metadata": {},
   "outputs": [
    {
     "name": "stdout",
     "output_type": "stream",
     "text": [
      "<_io.TextIOWrapper name='xyz.txt' mode='r' encoding='cp1252'>\n"
     ]
    }
   ],
   "source": [
    "print(f)"
   ]
  },
  {
   "cell_type": "code",
   "execution_count": 44,
   "id": "032a5491",
   "metadata": {},
   "outputs": [
    {
     "data": {
      "text/plain": [
       "'this is my python classthis is my file handling class this is my file handling class this is my file handling class\\n this is my file handling class\\n this is my file handling class\\n this is my file handling class\\n this is my file handling class\\n'"
      ]
     },
     "execution_count": 44,
     "metadata": {},
     "output_type": "execute_result"
    }
   ],
   "source": [
    "f.read ()"
   ]
  },
  {
   "cell_type": "code",
   "execution_count": 51,
   "id": "08be32f0",
   "metadata": {},
   "outputs": [
    {
     "data": {
      "text/plain": [
       "'his is my file handling class this is my file handling class\\n this is my file handling class\\n this is my file handling class\\n this is my file handling class\\n this is my file handling class\\n'"
      ]
     },
     "execution_count": 51,
     "metadata": {},
     "output_type": "execute_result"
    }
   ],
   "source": [
    "f.read ()"
   ]
  },
  {
   "cell_type": "code",
   "execution_count": 54,
   "id": "07dbf78f",
   "metadata": {},
   "outputs": [
    {
     "data": {
      "text/plain": [
       "55"
      ]
     },
     "execution_count": 54,
     "metadata": {},
     "output_type": "execute_result"
    }
   ],
   "source": [
    "f.tell()"
   ]
  },
  {
   "cell_type": "code",
   "execution_count": 53,
   "id": "532ca063",
   "metadata": {},
   "outputs": [
    {
     "data": {
      "text/plain": [
       "55"
      ]
     },
     "execution_count": 53,
     "metadata": {},
     "output_type": "execute_result"
    }
   ],
   "source": [
    "f.seek(55)"
   ]
  },
  {
   "cell_type": "code",
   "execution_count": 55,
   "id": "ec193070",
   "metadata": {},
   "outputs": [
    {
     "data": {
      "text/plain": [
       "['his is my file handling class this is my file handling class\\n',\n",
       " ' this is my file handling class\\n',\n",
       " ' this is my file handling class\\n',\n",
       " ' this is my file handling class\\n',\n",
       " ' this is my file handling class\\n']"
      ]
     },
     "execution_count": 55,
     "metadata": {},
     "output_type": "execute_result"
    }
   ],
   "source": [
    "f.readlines()"
   ]
  },
  {
   "cell_type": "code",
   "execution_count": null,
   "id": "c134eb3b",
   "metadata": {},
   "outputs": [],
   "source": []
  }
 ],
 "metadata": {
  "kernelspec": {
   "display_name": "Python 3 (ipykernel)",
   "language": "python",
   "name": "python3"
  },
  "language_info": {
   "codemirror_mode": {
    "name": "ipython",
    "version": 3
   },
   "file_extension": ".py",
   "mimetype": "text/x-python",
   "name": "python",
   "nbconvert_exporter": "python",
   "pygments_lexer": "ipython3",
   "version": "3.9.7"
  }
 },
 "nbformat": 4,
 "nbformat_minor": 5
}
