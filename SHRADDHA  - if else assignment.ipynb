{
 "cells": [
  {
   "cell_type": "code",
   "execution_count": 19,
   "id": "02142644",
   "metadata": {},
   "outputs": [],
   "source": [
    "a=-15"
   ]
  },
  {
   "cell_type": "code",
   "execution_count": 20,
   "id": "5d0bd58b",
   "metadata": {},
   "outputs": [
    {
     "name": "stdout",
     "output_type": "stream",
     "text": [
      "a is not positive number\n"
     ]
    }
   ],
   "source": [
    "def positive(name):\n",
    "    try:\n",
    "        a = -15\n",
    "        if a>0:\n",
    "            print(\"a is positive number\")\n",
    "        else:\n",
    "             print(\"a is not positive number\")\n",
    "    except Exception as e:\n",
    "        print(e)\n",
    "positive(a)   "
   ]
  },
  {
   "cell_type": "code",
   "execution_count": 21,
   "id": "199f42f6",
   "metadata": {},
   "outputs": [
    {
     "name": "stdout",
     "output_type": "stream",
     "text": [
      "Enter a number : 10\n",
      "a is a positive number\n"
     ]
    }
   ],
   "source": [
    "def negative(name):\n",
    "    try:\n",
    "        a = int(input(\"Enter a number : \"))\n",
    "        if a>0:\n",
    "            print(\"a is a positive number\")\n",
    "        elif a == 0:\n",
    "            print(\"a is zero\")\n",
    "        else:\n",
    "            print(\"a is not a positive number\")\n",
    "    except Exception as e:\n",
    "        print(e)\n",
    "negative(a)  "
   ]
  },
  {
   "cell_type": "code",
   "execution_count": 16,
   "id": "b57136f4",
   "metadata": {},
   "outputs": [
    {
     "name": "stdout",
     "output_type": "stream",
     "text": [
      "Enter a number:25\n",
      "Enter a number:68\n",
      "b is greter\n"
     ]
    }
   ],
   "source": [
    "def greter(self,self1):\n",
    "        try:\n",
    "            a = int(input(\"Enter a number:\"))\n",
    "            b = int(input(\"Enter a number:\"))\n",
    "            if a>b:\n",
    "                print(\"a is greter\")\n",
    "            else:\n",
    "                print(\"b is greter\")\n",
    "        except Exception as e:\n",
    "                print(e)\n",
    "greter(a,b)   "
   ]
  },
  {
   "cell_type": "code",
   "execution_count": 8,
   "id": "d7ad6120",
   "metadata": {},
   "outputs": [
    {
     "name": "stdout",
     "output_type": "stream",
     "text": [
      "Enter a number:13\n",
      "this is an even number\n"
     ]
    }
   ],
   "source": [
    "def even(argument):\n",
    "        try:\n",
    "            b = int(input(\"Enter a number:\"))\n",
    "            if b%2 == 0:\n",
    "                print(\"this is an odd number\")\n",
    "            else:\n",
    "                print(\"this is an even number\")\n",
    "        except Exception as e:\n",
    "            print(e)\n",
    "even(b)"
   ]
  },
  {
   "cell_type": "code",
   "execution_count": 33,
   "id": "3ae8f24d",
   "metadata": {},
   "outputs": [
    {
     "name": "stdout",
     "output_type": "stream",
     "text": [
      "Enter a number:52\n",
      "c is greter than 10\n",
      "c is greter than 10 but less than 20\n"
     ]
    }
   ],
   "source": [
    "def function(self):\n",
    "    try:\n",
    "        c = int(input(\"Enter a number:\"))\n",
    "        if c>10:\n",
    "            print(\"c is greter than 10\")\n",
    "            if a>20:\n",
    "                print(\"c is greter than 20\")\n",
    "                if c>30:\n",
    "                    print(\"c is greter than 30\")\n",
    "                else:\n",
    "                    print(\"c is greter than 20 but less than 30\")\n",
    "            else:\n",
    "                print(\"c is greter than 10 but less than 20\")\n",
    "        else:\n",
    "            print(\"c is smaller\")\n",
    "    except Exception as e:\n",
    "         print(e)\n",
    "function(c)   "
   ]
  },
  {
   "cell_type": "code",
   "execution_count": 36,
   "id": "51a45269",
   "metadata": {},
   "outputs": [
    {
     "name": "stdout",
     "output_type": "stream",
     "text": [
      "Enter a username:tejas\n",
      "user verified\n"
     ]
    }
   ],
   "source": [
    "def function(self):\n",
    "    try:\n",
    "        username = input(\"Enter a username:\")\n",
    "        if username == \"Tejas\" or username == \"tejas\":\n",
    "            print(\"user verified\")\n",
    "        else:\n",
    "            (\"username is incorrect\")\n",
    "    except Exception as e:\n",
    "        print(e)\n",
    "function(username)  "
   ]
  },
  {
   "cell_type": "code",
   "execution_count": 39,
   "id": "e663f13e",
   "metadata": {},
   "outputs": [
    {
     "name": "stdout",
     "output_type": "stream",
     "text": [
      "this is string\n"
     ]
    }
   ],
   "source": [
    "def string(name):\n",
    "    try:\n",
    "        k = \"15\"\n",
    "        if type(k) == int or type(k) == float:\n",
    "            print(\"the input is number\")\n",
    "        elif type(a) == str:\n",
    "            print(\"this is string\")\n",
    "        else:\n",
    "            print(\"input is inalid\")\n",
    "    except Exception as e:\n",
    "        print(e)\n",
    "string(k)"
   ]
  },
  {
   "cell_type": "code",
   "execution_count": 49,
   "id": "24ce5778",
   "metadata": {},
   "outputs": [
    {
     "name": "stdout",
     "output_type": "stream",
     "text": [
      "Enter a username:shweta\n",
      "Enter a password:12345\n",
      "logged in\n"
     ]
    }
   ],
   "source": [
    "def function(name,name1):\n",
    "    try:\n",
    "        username = input(\"Enter a username:\")\n",
    "        password = input(\"Enter a password:\")\n",
    "        username = username.lower()\n",
    "        if username == \"shweta\" and password == \"12345\":\n",
    "            print(\"logged in\")\n",
    "        else:\n",
    "            print(\"username/password is incorrect\")\n",
    "    except Exception as e:\n",
    "        print(e)\n",
    "function(username,password)   "
   ]
  },
  {
   "cell_type": "code",
   "execution_count": 48,
   "id": "985185df",
   "metadata": {},
   "outputs": [
    {
     "name": "stdout",
     "output_type": "stream",
     "text": [
      "Enter a username:ABHI\n",
      "Enter a password:12345\n",
      "logged in\n"
     ]
    }
   ],
   "source": [
    "def method(name,name1):\n",
    "    try:\n",
    "        username = input(\"Enter a username:\")\n",
    "        password = input(\"Enter a password:\")\n",
    "        username = username.upper()\n",
    "        if username == \"ABHI\" and password == \"12345\":\n",
    "            print(\"logged in\")\n",
    "        else:\n",
    "            print(\"username/password is incorrect\")\n",
    "    except Exception as e:\n",
    "        print(e)\n",
    "method(username,password)"
   ]
  },
  {
   "cell_type": "code",
   "execution_count": 37,
   "id": "632c547e",
   "metadata": {},
   "outputs": [],
   "source": [
    "positive_numbers = []\n",
    "negative_numbers = []"
   ]
  },
  {
   "cell_type": "code",
   "execution_count": 33,
   "id": "86a62c91",
   "metadata": {},
   "outputs": [
    {
     "name": "stdout",
     "output_type": "stream",
     "text": [
      "Enter a number :-47\n",
      "j is not a positive numbers\n"
     ]
    }
   ],
   "source": [
    "def append(number):\n",
    "    try:\n",
    "        j = int(input(\"Enter a number :\"))\n",
    "        if j>0:\n",
    "            positive_numbers.append(j)\n",
    "            print(\"j is not a positive number\")\n",
    "        elif j == 0:\n",
    "            print(\"j is zero\")\n",
    "        else:\n",
    "            negative_numbers.append(j)\n",
    "            print(\"j is not a positive numbers\")\n",
    "    except Exception as e:\n",
    "        print(e)\n",
    "append(j)"
   ]
  },
  {
   "cell_type": "code",
   "execution_count": 31,
   "id": "622343a2",
   "metadata": {},
   "outputs": [
    {
     "data": {
      "text/plain": [
       "[65]"
      ]
     },
     "execution_count": 31,
     "metadata": {},
     "output_type": "execute_result"
    }
   ],
   "source": [
    "positive_numbers"
   ]
  },
  {
   "cell_type": "code",
   "execution_count": 34,
   "id": "cf309bbb",
   "metadata": {},
   "outputs": [
    {
     "data": {
      "text/plain": [
       "[-47]"
      ]
     },
     "execution_count": 34,
     "metadata": {},
     "output_type": "execute_result"
    }
   ],
   "source": [
    "negative_numbers"
   ]
  },
  {
   "cell_type": "code",
   "execution_count": null,
   "id": "3432a1c9",
   "metadata": {},
   "outputs": [],
   "source": []
  }
 ],
 "metadata": {
  "kernelspec": {
   "display_name": "Python 3 (ipykernel)",
   "language": "python",
   "name": "python3"
  },
  "language_info": {
   "codemirror_mode": {
    "name": "ipython",
    "version": 3
   },
   "file_extension": ".py",
   "mimetype": "text/x-python",
   "name": "python",
   "nbconvert_exporter": "python",
   "pygments_lexer": "ipython3",
   "version": "3.9.7"
  }
 },
 "nbformat": 4,
 "nbformat_minor": 5
}
