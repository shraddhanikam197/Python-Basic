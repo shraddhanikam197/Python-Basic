{
 "cells": [
  {
   "cell_type": "code",
   "execution_count": 13,
   "id": "816f45b1",
   "metadata": {},
   "outputs": [
    {
     "name": "stdout",
     "output_type": "stream",
     "text": [
      "this is a function\n"
     ]
    }
   ],
   "source": [
    "def func_name():\n",
    "    print(\"this is a function\")\n",
    "func_name()    "
   ]
  },
  {
   "cell_type": "code",
   "execution_count": 14,
   "id": "dc802a52",
   "metadata": {},
   "outputs": [],
   "source": [
    "class Myclass():\n",
    "    def func_name(self):\n",
    "        print(\"this is a function\")"
   ]
  },
  {
   "cell_type": "code",
   "execution_count": 15,
   "id": "158fcb8d",
   "metadata": {},
   "outputs": [
    {
     "name": "stdout",
     "output_type": "stream",
     "text": [
      "this is a function\n"
     ]
    }
   ],
   "source": [
    "c= Myclass()\n",
    "c.func_name()"
   ]
  },
  {
   "cell_type": "code",
   "execution_count": 16,
   "id": "deceeb23",
   "metadata": {},
   "outputs": [],
   "source": [
    "s=\"sgkgk\""
   ]
  },
  {
   "cell_type": "code",
   "execution_count": 17,
   "id": "04664f02",
   "metadata": {},
   "outputs": [
    {
     "data": {
      "text/plain": [
       "'SGKGK'"
      ]
     },
     "execution_count": 17,
     "metadata": {},
     "output_type": "execute_result"
    }
   ],
   "source": [
    "s.swapcase()"
   ]
  },
  {
   "cell_type": "code",
   "execution_count": 18,
   "id": "0c600775",
   "metadata": {},
   "outputs": [],
   "source": [
    "class Myclass():\n",
    "    def func_name(self):\n",
    "        print(\"this is a function\")\n",
    "    def func_name1(self):\n",
    "        print(\"this is a functionsggff\")"
   ]
  },
  {
   "cell_type": "code",
   "execution_count": 19,
   "id": "f44b1eeb",
   "metadata": {},
   "outputs": [
    {
     "name": "stdout",
     "output_type": "stream",
     "text": [
      "this is a function\n",
      "this is a functionsggff\n"
     ]
    }
   ],
   "source": [
    "c= Myclass()\n",
    "c.func_name()\n",
    "c.func_name1()"
   ]
  },
  {
   "cell_type": "code",
   "execution_count": 20,
   "id": "d7391862",
   "metadata": {},
   "outputs": [
    {
     "name": "stdout",
     "output_type": "stream",
     "text": [
      "this is init function\n"
     ]
    }
   ],
   "source": [
    "class info:\n",
    "    def __init__(self,name,age):\n",
    "        self.name = name\n",
    "        self.age = age\n",
    "        print(\"this is init function\")\n",
    "i = info('samir',99)        "
   ]
  },
  {
   "cell_type": "code",
   "execution_count": 21,
   "id": "347477d7",
   "metadata": {},
   "outputs": [
    {
     "name": "stdout",
     "output_type": "stream",
     "text": [
      "this is init function\n",
      "the name of employee is : samir\n",
      "the age of employee is : 58\n"
     ]
    }
   ],
   "source": [
    "class info:\n",
    "    def __init__ (self,name,age):\n",
    "        self.name = name\n",
    "        self.age = age\n",
    "        print(\"this is init function\")\n",
    "    def display(self):\n",
    "        print(\"the name of employee is :\",self.name)\n",
    "        print(\"the age of employee is :\",self.age)\n",
    "i = info(\"samir\",58)\n",
    "i.display()\n",
    "    "
   ]
  },
  {
   "cell_type": "code",
   "execution_count": 22,
   "id": "de58eb4e",
   "metadata": {},
   "outputs": [
    {
     "name": "stdout",
     "output_type": "stream",
     "text": [
      "class is created succesfully\n"
     ]
    }
   ],
   "source": [
    "class customer_information():\n",
    "    def __init__ (self,name,age,contact,email):\n",
    "        self.name = name\n",
    "        self.age = age\n",
    "        self.contact = contact\n",
    "        self.email = email\n",
    "        print(\"class is created succesfully\")\n",
    "    def name_age(self):\n",
    "        print(\"the name of employee is :\",self.name)\n",
    "        print(\"the age of employee is :\",self.age)\n",
    "    def phone_email(self):  \n",
    "        print(\"the contact of employee is :\",self.contact)\n",
    "        print(\"the email of employee is :\",self.email)\n",
    "info = customer_information(\"samir\",58,8805977527,\"abd2gmail.com\")\n"
   ]
  },
  {
   "cell_type": "code",
   "execution_count": 23,
   "id": "368a20c5",
   "metadata": {},
   "outputs": [
    {
     "name": "stdout",
     "output_type": "stream",
     "text": [
      "the name of employee is : samir\n",
      "the age of employee is : 58\n"
     ]
    }
   ],
   "source": [
    "info.name_age()"
   ]
  },
  {
   "cell_type": "code",
   "execution_count": 24,
   "id": "acc092f3",
   "metadata": {},
   "outputs": [
    {
     "name": "stdout",
     "output_type": "stream",
     "text": [
      "the contact of employee is : 8805977527\n",
      "the email of employee is : abd2gmail.com\n"
     ]
    }
   ],
   "source": [
    "info.phone_email()"
   ]
  },
  {
   "cell_type": "code",
   "execution_count": null,
   "id": "f68eda88",
   "metadata": {},
   "outputs": [],
   "source": []
  }
 ],
 "metadata": {
  "kernelspec": {
   "display_name": "Python 3 (ipykernel)",
   "language": "python",
   "name": "python3"
  },
  "language_info": {
   "codemirror_mode": {
    "name": "ipython",
    "version": 3
   },
   "file_extension": ".py",
   "mimetype": "text/x-python",
   "name": "python",
   "nbconvert_exporter": "python",
   "pygments_lexer": "ipython3",
   "version": "3.9.7"
  }
 },
 "nbformat": 4,
 "nbformat_minor": 5
}
