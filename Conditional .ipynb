{
 "cells": [
  {
   "cell_type": "markdown",
   "id": "cbd97e19",
   "metadata": {},
   "source": [
    "# if , if - else , if elif else"
   ]
  },
  {
   "cell_type": "raw",
   "id": "961f6b2f",
   "metadata": {},
   "source": [
    "a = 10\n",
    "if condition\n",
    "__execution"
   ]
  },
  {
   "cell_type": "code",
   "execution_count": 6,
   "id": "1616ae18",
   "metadata": {},
   "outputs": [
    {
     "name": "stdout",
     "output_type": "stream",
     "text": [
      "a is a positive number\n"
     ]
    }
   ],
   "source": [
    "a = 10\n",
    "if a>0:\n",
    "    print(\"a is a positive number\")"
   ]
  },
  {
   "cell_type": "code",
   "execution_count": null,
   "id": "29b15f87",
   "metadata": {},
   "outputs": [],
   "source": []
  },
  {
   "cell_type": "code",
   "execution_count": 7,
   "id": "83bbdc59",
   "metadata": {},
   "outputs": [
    {
     "name": "stdout",
     "output_type": "stream",
     "text": [
      "a is not positive number\n"
     ]
    }
   ],
   "source": [
    "a = -15\n",
    "if a>0:\n",
    "    print(\"a is positive number\")\n",
    "else:\n",
    "     print(\"a is not positive number\")"
   ]
  },
  {
   "cell_type": "code",
   "execution_count": 8,
   "id": "da676008",
   "metadata": {},
   "outputs": [
    {
     "name": "stdout",
     "output_type": "stream",
     "text": [
      "a is zero\n"
     ]
    }
   ],
   "source": [
    "a = 0\n",
    "if a>0:\n",
    "    print(\"a is a positive number\")\n",
    "elif a == 0:\n",
    "    print(\"a is zero\")\n",
    "else:\n",
    "    print(\"a is not a positive numbers\")"
   ]
  },
  {
   "cell_type": "code",
   "execution_count": 4,
   "id": "3b86aff7",
   "metadata": {},
   "outputs": [
    {
     "name": "stdout",
     "output_type": "stream",
     "text": [
      "Enter a number :52\n",
      "a is a positive number\n"
     ]
    }
   ],
   "source": [
    "a = int(input(\"Enter a number :\"))\n",
    "if a>0:\n",
    "    print(\"a is a positive number\")\n",
    "elif a == 0:\n",
    "    print(\"a is zero\")\n",
    "else:\n",
    "    print(\"a is not a positive number\")"
   ]
  },
  {
   "cell_type": "code",
   "execution_count": 1,
   "id": "e55f5eeb",
   "metadata": {},
   "outputs": [],
   "source": [
    "positive_numbers = []\n",
    "negative_numbers = []"
   ]
  },
  {
   "cell_type": "code",
   "execution_count": 5,
   "id": "0deb5b9f",
   "metadata": {},
   "outputs": [
    {
     "name": "stdout",
     "output_type": "stream",
     "text": [
      "Enter a number :-54\n",
      "j is not a positive numbers\n"
     ]
    }
   ],
   "source": [
    "j = int(input(\"Enter a number :\"))\n",
    "if j>0:\n",
    "    positive_numbers.append(j)\n",
    "    print(\"j is not a positive number\")\n",
    "elif j == 0:\n",
    "    print(\"j is zero\")\n",
    "else:\n",
    "    negative_numbers.append(j)\n",
    "    print(\"j is not a positive numbers\")\n",
    "    "
   ]
  },
  {
   "cell_type": "code",
   "execution_count": 3,
   "id": "427c1120",
   "metadata": {},
   "outputs": [
    {
     "data": {
      "text/plain": [
       "[14]"
      ]
     },
     "execution_count": 3,
     "metadata": {},
     "output_type": "execute_result"
    }
   ],
   "source": [
    "\n",
    "positive_numbers "
   ]
  },
  {
   "cell_type": "code",
   "execution_count": 6,
   "id": "29c1e930",
   "metadata": {},
   "outputs": [
    {
     "data": {
      "text/plain": [
       "[-54]"
      ]
     },
     "execution_count": 6,
     "metadata": {},
     "output_type": "execute_result"
    }
   ],
   "source": [
    "negative_numbers "
   ]
  },
  {
   "cell_type": "code",
   "execution_count": 7,
   "id": "d8a873da",
   "metadata": {},
   "outputs": [
    {
     "name": "stdout",
     "output_type": "stream",
     "text": [
      "Enter a number:25\n",
      "Enter a number:15\n",
      "a is greter\n"
     ]
    }
   ],
   "source": [
    "a = int(input(\"Enter a number:\"))\n",
    "b = int(input(\"Enter a number:\"))\n",
    "if a>b:\n",
    "    print(\"a is greter\")\n",
    "else:\n",
    "    print(\"b is greter\")"
   ]
  },
  {
   "cell_type": "code",
   "execution_count": 8,
   "id": "4eb92fe9",
   "metadata": {},
   "outputs": [
    {
     "name": "stdout",
     "output_type": "stream",
     "text": [
      "Enter a number:15\n",
      "this is an even number\n"
     ]
    }
   ],
   "source": [
    "a = int(input(\"Enter a number:\"))\n",
    "if a%2 == 0:\n",
    "    print(\"this is an odd number\")\n",
    "else:\n",
    "    print(\"this is an even number\")"
   ]
  },
  {
   "cell_type": "code",
   "execution_count": 16,
   "id": "215a4073",
   "metadata": {},
   "outputs": [
    {
     "name": "stdout",
     "output_type": "stream",
     "text": [
      "a is greter\n"
     ]
    }
   ],
   "source": [
    "a = 12\n",
    "b = 11\n",
    "if a>b : print(\"a is greter\")"
   ]
  },
  {
   "cell_type": "code",
   "execution_count": 17,
   "id": "9a1d94c6",
   "metadata": {},
   "outputs": [
    {
     "name": "stdout",
     "output_type": "stream",
     "text": [
      "a is greter\n"
     ]
    }
   ],
   "source": [
    " print(\"a is greter\") if a>b else print(\"b is greter\")"
   ]
  },
  {
   "cell_type": "code",
   "execution_count": 18,
   "id": "5c9c81b2",
   "metadata": {},
   "outputs": [
    {
     "name": "stdout",
     "output_type": "stream",
     "text": [
      "a is positive\n"
     ]
    }
   ],
   "source": [
    "a = 10\n",
    "if a>0:\n",
    "    print(\"a is positive\")\n",
    "else:\n",
    "    print(\"a is negative\")"
   ]
  },
  {
   "cell_type": "code",
   "execution_count": 11,
   "id": "24cded09",
   "metadata": {},
   "outputs": [
    {
     "name": "stdout",
     "output_type": "stream",
     "text": [
      "a is zero\n"
     ]
    }
   ],
   "source": [
    "a = 0\n",
    "if a>=0:\n",
    "    if a>0:\n",
    "        print(\"a is greter\")\n",
    "    else:\n",
    "        print(\"a is zero\")\n",
    "else:\n",
    "    print(\"a is negative\")"
   ]
  },
  {
   "cell_type": "code",
   "execution_count": 13,
   "id": "a4f8d66f",
   "metadata": {},
   "outputs": [
    {
     "name": "stdout",
     "output_type": "stream",
     "text": [
      "a is negative\n"
     ]
    }
   ],
   "source": [
    "a = -14\n",
    "if a>=0:\n",
    "    if a>0:\n",
    "        print(\"a is greter\")\n",
    "    else:\n",
    "        print(\"a is zero\")\n",
    "else:\n",
    "    print(\"a is negative\")"
   ]
  },
  {
   "cell_type": "code",
   "execution_count": null,
   "id": "25af5196",
   "metadata": {},
   "outputs": [],
   "source": [
    "# continue pass break"
   ]
  },
  {
   "cell_type": "code",
   "execution_count": 14,
   "id": "961cbd7b",
   "metadata": {},
   "outputs": [
    {
     "name": "stdout",
     "output_type": "stream",
     "text": [
      "Enter a number:15\n",
      "a is greter than 10\n",
      "a is greter than 10 but less than 20\n"
     ]
    }
   ],
   "source": [
    "a = int(input(\"Enter a number:\"))\n",
    "if a>10:\n",
    "    print(\"a is greter than 10\")\n",
    "    if a>20:\n",
    "        print(\"a is greter than 20\")\n",
    "        if a>30:\n",
    "            print(\"a is greter than 30\")\n",
    "        else:\n",
    "            print(\"a is greter than 20 but less than 30\")\n",
    "    else:\n",
    "        print(\"a is greter than 10 but less than 20\")\n",
    "else:\n",
    "    print(\"a is smaller\")\n"
   ]
  },
  {
   "cell_type": "code",
   "execution_count": 23,
   "id": "06871130",
   "metadata": {},
   "outputs": [
    {
     "name": "stdout",
     "output_type": "stream",
     "text": [
      "Enter a username:\n"
     ]
    }
   ],
   "source": [
    "username = input(\"Enter a username:\")\n",
    "if username == \"sam\" or username == \"Sam\":\n",
    "    print(\"user verified\")\n",
    "else:\n",
    "    (\"username is incorrect\")"
   ]
  },
  {
   "cell_type": "code",
   "execution_count": 24,
   "id": "00f1f739",
   "metadata": {},
   "outputs": [
    {
     "name": "stdout",
     "output_type": "stream",
     "text": [
      "Enter a username:\n",
      "username is incorrect\n"
     ]
    }
   ],
   "source": [
    "username = input(\"Enter a username:\")\n",
    "if username == \"sam\" or username == \"Sam\":\n",
    "    print(\"user verified\")\n",
    "else:\n",
    "    print(\"username is incorrect\")"
   ]
  },
  {
   "cell_type": "code",
   "execution_count": 20,
   "id": "16ce1fe4",
   "metadata": {},
   "outputs": [
    {
     "name": "stdout",
     "output_type": "stream",
     "text": [
      "Enter a username:sam\n",
      "Enter a password:12345\n",
      "username/password is incorrect\n"
     ]
    }
   ],
   "source": [
    "username = input(\"Enter a username:\")\n",
    "password = input(\"Enter a password:\")\n",
    "username = username.lower()\n",
    "if username == \"Sam\" and password == \"12345\":\n",
    "    print(\"logged in\")\n",
    "else:\n",
    "    print(\"username/password is incorrect\")"
   ]
  },
  {
   "cell_type": "code",
   "execution_count": 26,
   "id": "d8bf04a5",
   "metadata": {},
   "outputs": [
    {
     "name": "stdout",
     "output_type": "stream",
     "text": [
      "this is string\n"
     ]
    }
   ],
   "source": [
    "a = \"15\"\n",
    "if type(a) == int or type(a) == float:\n",
    "    print(\"the input is number\")\n",
    "elif type(a) == str:\n",
    "    print(\"this is string\")\n",
    "else:\n",
    "    print(\"input is inalid\")"
   ]
  },
  {
   "cell_type": "code",
   "execution_count": null,
   "id": "8b2cd8f6",
   "metadata": {},
   "outputs": [],
   "source": []
  },
  {
   "cell_type": "code",
   "execution_count": null,
   "id": "43929025",
   "metadata": {},
   "outputs": [],
   "source": []
  },
  {
   "cell_type": "code",
   "execution_count": null,
   "id": "2e3f1035",
   "metadata": {},
   "outputs": [],
   "source": []
  },
  {
   "cell_type": "code",
   "execution_count": null,
   "id": "45c9463a",
   "metadata": {},
   "outputs": [],
   "source": []
  },
  {
   "cell_type": "code",
   "execution_count": null,
   "id": "53f610e7",
   "metadata": {},
   "outputs": [],
   "source": []
  },
  {
   "cell_type": "code",
   "execution_count": null,
   "id": "9a8ef0e9",
   "metadata": {},
   "outputs": [],
   "source": []
  },
  {
   "cell_type": "code",
   "execution_count": null,
   "id": "fde4b9d8",
   "metadata": {},
   "outputs": [],
   "source": []
  },
  {
   "cell_type": "code",
   "execution_count": null,
   "id": "1696dd25",
   "metadata": {},
   "outputs": [],
   "source": []
  }
 ],
 "metadata": {
  "kernelspec": {
   "display_name": "Python 3 (ipykernel)",
   "language": "python",
   "name": "python3"
  },
  "language_info": {
   "codemirror_mode": {
    "name": "ipython",
    "version": 3
   },
   "file_extension": ".py",
   "mimetype": "text/x-python",
   "name": "python",
   "nbconvert_exporter": "python",
   "pygments_lexer": "ipython3",
   "version": "3.9.7"
  }
 },
 "nbformat": 4,
 "nbformat_minor": 5
}
