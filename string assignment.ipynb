{
 "cells": [
  {
   "cell_type": "markdown",
   "id": "25f7600f",
   "metadata": {},
   "source": [
    "# String Method "
   ]
  },
  {
   "cell_type": "code",
   "execution_count": 32,
   "id": "6abdd674",
   "metadata": {},
   "outputs": [],
   "source": [
    "name = \"python\""
   ]
  },
  {
   "cell_type": "code",
   "execution_count": 33,
   "id": "74aa4afd",
   "metadata": {},
   "outputs": [
    {
     "name": "stdout",
     "output_type": "stream",
     "text": [
      "python\n"
     ]
    }
   ],
   "source": [
    "def variable (string):\n",
    "    try:\n",
    "        print (string)\n",
    "    except exception as e:\n",
    "        print(e)\n",
    "variable (name)"
   ]
  },
  {
   "cell_type": "code",
   "execution_count": null,
   "id": "222d97be",
   "metadata": {},
   "outputs": [],
   "source": []
  },
  {
   "cell_type": "raw",
   "id": "e3f76bc3",
   "metadata": {},
   "source": [
    " # type : "
   ]
  },
  {
   "cell_type": "code",
   "execution_count": 34,
   "id": "1840b254",
   "metadata": {},
   "outputs": [],
   "source": [
    "name = \"python\""
   ]
  },
  {
   "cell_type": "code",
   "execution_count": 35,
   "id": "54a62162",
   "metadata": {
    "scrolled": true
   },
   "outputs": [
    {
     "name": "stdout",
     "output_type": "stream",
     "text": [
      "<class 'str'>\n"
     ]
    }
   ],
   "source": [
    "print(type(name))"
   ]
  },
  {
   "cell_type": "code",
   "execution_count": 36,
   "id": "19a5cb1e",
   "metadata": {
    "scrolled": true
   },
   "outputs": [
    {
     "name": "stdout",
     "output_type": "stream",
     "text": [
      "<class 'str'>\n"
     ]
    }
   ],
   "source": [
    "def variable (variable):\n",
    "    try:\n",
    "        print(type(variable)) \n",
    "    except exception as e:\n",
    "        print(e)\n",
    "variable (name)"
   ]
  },
  {
   "cell_type": "code",
   "execution_count": null,
   "id": "44c20b6b",
   "metadata": {},
   "outputs": [],
   "source": []
  },
  {
   "cell_type": "raw",
   "id": "1e220dce",
   "metadata": {},
   "source": [
    "# min : min() method return the lowest  value from the given itreable or multiple  argumennts."
   ]
  },
  {
   "cell_type": "code",
   "execution_count": 6,
   "id": "dc0304bf",
   "metadata": {},
   "outputs": [],
   "source": [
    "pq = ['def','ghi','opq']"
   ]
  },
  {
   "cell_type": "code",
   "execution_count": 7,
   "id": "d78f9cf3",
   "metadata": {},
   "outputs": [
    {
     "name": "stdout",
     "output_type": "stream",
     "text": [
      "def\n"
     ]
    }
   ],
   "source": [
    "print(min(pq))"
   ]
  },
  {
   "cell_type": "code",
   "execution_count": 9,
   "id": "73251551",
   "metadata": {},
   "outputs": [
    {
     "name": "stdout",
     "output_type": "stream",
     "text": [
      "def\n"
     ]
    }
   ],
   "source": [
    "def minimum(num):\n",
    "    try:\n",
    "        print(min(num))\n",
    "    except Exception as e:\n",
    "            print(e)\n",
    "minimum(pq)\n"
   ]
  },
  {
   "cell_type": "code",
   "execution_count": 37,
   "id": "600b76c2",
   "metadata": {},
   "outputs": [],
   "source": [
    "book = \"thisisclass\""
   ]
  },
  {
   "cell_type": "code",
   "execution_count": 38,
   "id": "d7b5cefe",
   "metadata": {},
   "outputs": [
    {
     "name": "stdout",
     "output_type": "stream",
     "text": [
      "a\n"
     ]
    }
   ],
   "source": [
    "print(min(book))"
   ]
  },
  {
   "cell_type": "code",
   "execution_count": 39,
   "id": "d3269351",
   "metadata": {},
   "outputs": [
    {
     "name": "stdout",
     "output_type": "stream",
     "text": [
      "a\n"
     ]
    }
   ],
   "source": [
    " try:\n",
    "    print(min(book))\n",
    "except Exception as e:\n",
    "    print(e)   "
   ]
  },
  {
   "cell_type": "code",
   "execution_count": 23,
   "id": "4ff387f9",
   "metadata": {},
   "outputs": [
    {
     "name": "stdout",
     "output_type": "stream",
     "text": [
      "a\n"
     ]
    }
   ],
   "source": [
    "def minimum(num):\n",
    "    try:\n",
    "        print(min(num))\n",
    "    except Exception as e:\n",
    "            print(e)\n",
    "minimum(book)\n",
    "\n",
    "    "
   ]
  },
  {
   "cell_type": "code",
   "execution_count": null,
   "id": "f4501487",
   "metadata": {},
   "outputs": [],
   "source": []
  },
  {
   "cell_type": "raw",
   "id": "1e7eec33",
   "metadata": {},
   "source": [
    "# max : the max() method returns the largest value from the specified iterable or multiple arguments."
   ]
  },
  {
   "cell_type": "code",
   "execution_count": 40,
   "id": "09f61f86",
   "metadata": {},
   "outputs": [
    {
     "name": "stdout",
     "output_type": "stream",
     "text": [
      "science\n"
     ]
    }
   ],
   "source": [
    "self = ['data','science','class']\n",
    "print(max(self))"
   ]
  },
  {
   "cell_type": "code",
   "execution_count": 41,
   "id": "408e4902",
   "metadata": {},
   "outputs": [
    {
     "name": "stdout",
     "output_type": "stream",
     "text": [
      "science\n"
     ]
    }
   ],
   "source": [
    "def maximum(variable):\n",
    "    try:\n",
    "        print(max(variable))\n",
    "    except Exception as e:\n",
    "            print(e)\n",
    "maximum(self)\n",
    "\n",
    "    "
   ]
  },
  {
   "cell_type": "code",
   "execution_count": null,
   "id": "e3122187",
   "metadata": {},
   "outputs": [],
   "source": []
  },
  {
   "cell_type": "raw",
   "id": "4d77bc01",
   "metadata": {},
   "source": [
    "# len : the len() function returns the object. it returns total elements in an iterable or number of chars in a string. "
   ]
  },
  {
   "cell_type": "code",
   "execution_count": 42,
   "id": "026c7ac1",
   "metadata": {},
   "outputs": [],
   "source": [
    "name = \"shraddha\""
   ]
  },
  {
   "cell_type": "code",
   "execution_count": 43,
   "id": "c0b28397",
   "metadata": {},
   "outputs": [
    {
     "name": "stdout",
     "output_type": "stream",
     "text": [
      "8\n"
     ]
    }
   ],
   "source": [
    "print(len(name))"
   ]
  },
  {
   "cell_type": "code",
   "execution_count": 44,
   "id": "5cb6d34f",
   "metadata": {},
   "outputs": [
    {
     "name": "stdout",
     "output_type": "stream",
     "text": [
      "8\n"
     ]
    }
   ],
   "source": [
    "def string(num):\n",
    "    try:\n",
    "        print(len(num))\n",
    "    except Exception as e:\n",
    "            print(e)\n",
    "string(name)"
   ]
  },
  {
   "cell_type": "code",
   "execution_count": null,
   "id": "810bd21d",
   "metadata": {},
   "outputs": [],
   "source": [
    "# find "
   ]
  },
  {
   "cell_type": "code",
   "execution_count": 45,
   "id": "1f74bfa5",
   "metadata": {},
   "outputs": [
    {
     "name": "stdout",
     "output_type": "stream",
     "text": [
      "8\n"
     ]
    }
   ],
   "source": [
    "name = \"stringmethod\"\n",
    "print(name.find(\"th\"))"
   ]
  },
  {
   "cell_type": "code",
   "execution_count": 48,
   "id": "2d5b42db",
   "metadata": {},
   "outputs": [
    {
     "name": "stdout",
     "output_type": "stream",
     "text": [
      "8\n"
     ]
    }
   ],
   "source": [
    "def find(num):\n",
    "    try:\n",
    "        print(num.find(\"th\"))\n",
    "    except Exception as e:\n",
    "            print(e)\n",
    "find(name)"
   ]
  },
  {
   "cell_type": "code",
   "execution_count": null,
   "id": "69aa5b9d",
   "metadata": {},
   "outputs": [],
   "source": []
  },
  {
   "cell_type": "raw",
   "id": "d2b5a95d",
   "metadata": {},
   "source": [
    "# strip() : Returns the string with both leading and trailing characters"
   ]
  },
  {
   "cell_type": "code",
   "execution_count": 49,
   "id": "25dcdae5",
   "metadata": {},
   "outputs": [
    {
     "name": "stdout",
     "output_type": "stream",
     "text": [
      "shraddha\n"
     ]
    }
   ],
   "source": [
    "name = \" shraddha \" \n",
    "print(name.strip())"
   ]
  },
  {
   "cell_type": "code",
   "execution_count": 50,
   "id": "c6140946",
   "metadata": {},
   "outputs": [
    {
     "name": "stdout",
     "output_type": "stream",
     "text": [
      "shraddha\n"
     ]
    }
   ],
   "source": [
    "def string(num):\n",
    "    try:\n",
    "        print(num.strip())        \n",
    "    except Exception as e:\n",
    "            print(e)\n",
    "string(name)"
   ]
  },
  {
   "cell_type": "code",
   "execution_count": null,
   "id": "15145a32",
   "metadata": {},
   "outputs": [],
   "source": []
  },
  {
   "cell_type": "raw",
   "id": "71f618ba",
   "metadata": {},
   "source": [
    "# rstrip() : Removes trailing characters"
   ]
  },
  {
   "cell_type": "code",
   "execution_count": 51,
   "id": "7b6b5315",
   "metadata": {},
   "outputs": [
    {
     "name": "stdout",
     "output_type": "stream",
     "text": [
      " shraddha\n"
     ]
    }
   ],
   "source": [
    "variable = \"java coding   \" \n",
    "print(name.rstrip())"
   ]
  },
  {
   "cell_type": "code",
   "execution_count": 53,
   "id": "d8d69139",
   "metadata": {
    "scrolled": true
   },
   "outputs": [
    {
     "name": "stdout",
     "output_type": "stream",
     "text": [
      "java coding\n"
     ]
    }
   ],
   "source": [
    "def string(save):\n",
    "    try:\n",
    "        print(save.rstrip())        \n",
    "    except Exception as e:\n",
    "            print(e)\n",
    "string(variable)"
   ]
  },
  {
   "cell_type": "code",
   "execution_count": null,
   "id": "a89342b2",
   "metadata": {},
   "outputs": [],
   "source": []
  },
  {
   "cell_type": "raw",
   "id": "85ae2c14",
   "metadata": {},
   "source": [
    "# lstrip() : Returns the string with leading characters removed"
   ]
  },
  {
   "cell_type": "code",
   "execution_count": 55,
   "id": "7d5c9e94",
   "metadata": {},
   "outputs": [
    {
     "name": "stdout",
     "output_type": "stream",
     "text": [
      "science and technology\n"
     ]
    }
   ],
   "source": [
    "l = \"   science and technology\"\n",
    "print(l.lstrip())"
   ]
  },
  {
   "cell_type": "code",
   "execution_count": 56,
   "id": "343e581f",
   "metadata": {},
   "outputs": [
    {
     "name": "stdout",
     "output_type": "stream",
     "text": [
      "science and technology\n"
     ]
    }
   ],
   "source": [
    "def string(character):\n",
    "    try:\n",
    "        print(character.lstrip())        \n",
    "    except Exception as e:\n",
    "            print(e)\n",
    "string(l)"
   ]
  },
  {
   "cell_type": "code",
   "execution_count": null,
   "id": "a06a6c62",
   "metadata": {},
   "outputs": [],
   "source": []
  },
  {
   "cell_type": "raw",
   "id": "489735a9",
   "metadata": {},
   "source": [
    "# count() : Returns the number of occurrences of a substring in the string."
   ]
  },
  {
   "cell_type": "code",
   "execution_count": 60,
   "id": "6a9f319c",
   "metadata": {},
   "outputs": [
    {
     "name": "stdout",
     "output_type": "stream",
     "text": [
      "3\n"
     ]
    }
   ],
   "source": [
    "name1 = (\"pythonpythonpython\")\n",
    "print(name1.count(\"th\"))"
   ]
  },
  {
   "cell_type": "code",
   "execution_count": 63,
   "id": "b73d22a6",
   "metadata": {},
   "outputs": [
    {
     "name": "stdout",
     "output_type": "stream",
     "text": [
      "3\n"
     ]
    }
   ],
   "source": [
    "def function(method):\n",
    "    try:\n",
    "        print(method.count(\"th\"))\n",
    "    except Exception as e:\n",
    "            print(e)\n",
    "function(name1)"
   ]
  },
  {
   "cell_type": "code",
   "execution_count": 64,
   "id": "9af90007",
   "metadata": {},
   "outputs": [],
   "source": [
    "c = \"hello word\""
   ]
  },
  {
   "cell_type": "code",
   "execution_count": 65,
   "id": "b939fa34",
   "metadata": {},
   "outputs": [
    {
     "name": "stdout",
     "output_type": "stream",
     "text": [
      "2\n"
     ]
    }
   ],
   "source": [
    "print(c.count(\"o\"))"
   ]
  },
  {
   "cell_type": "code",
   "execution_count": 66,
   "id": "5aa86438",
   "metadata": {},
   "outputs": [
    {
     "name": "stdout",
     "output_type": "stream",
     "text": [
      "2\n"
     ]
    }
   ],
   "source": [
    "def function(numbers):\n",
    "    try:\n",
    "        print(numbers.count(\"o\"))\n",
    "    except Exception as e:\n",
    "            print(e)\n",
    "function(c)"
   ]
  },
  {
   "cell_type": "raw",
   "id": "175078ed",
   "metadata": {},
   "source": [
    "# upper() : Converts all lowercase characters in a string into uppercase"
   ]
  },
  {
   "cell_type": "code",
   "execution_count": 67,
   "id": "33f933fd",
   "metadata": {},
   "outputs": [],
   "source": [
    "variable =(\"this is file\")"
   ]
  },
  {
   "cell_type": "code",
   "execution_count": 68,
   "id": "65296b7b",
   "metadata": {},
   "outputs": [
    {
     "name": "stdout",
     "output_type": "stream",
     "text": [
      "THIS IS FILE\n"
     ]
    }
   ],
   "source": [
    "print(variable.upper())"
   ]
  },
  {
   "cell_type": "code",
   "execution_count": 69,
   "id": "1393063d",
   "metadata": {
    "scrolled": true
   },
   "outputs": [
    {
     "name": "stdout",
     "output_type": "stream",
     "text": [
      "THIS IS FILE\n"
     ]
    }
   ],
   "source": [
    "def function(method):\n",
    "    try:\n",
    "        print(method.upper())\n",
    "    except Exception as e:\n",
    "            print(e)\n",
    "function(variable)"
   ]
  },
  {
   "cell_type": "code",
   "execution_count": null,
   "id": "bd14e7f7",
   "metadata": {},
   "outputs": [],
   "source": []
  },
  {
   "cell_type": "raw",
   "id": "9c2c15d6",
   "metadata": {},
   "source": [
    "# lower(): Converts all uppercase characters in a string into lowercase"
   ]
  },
  {
   "cell_type": "code",
   "execution_count": 70,
   "id": "c46f15f3",
   "metadata": {},
   "outputs": [],
   "source": [
    "s = (\"DATA SCIENCE\")"
   ]
  },
  {
   "cell_type": "code",
   "execution_count": 73,
   "id": "676bca29",
   "metadata": {},
   "outputs": [
    {
     "name": "stdout",
     "output_type": "stream",
     "text": [
      "data science\n"
     ]
    }
   ],
   "source": [
    "print(s.lower())"
   ]
  },
  {
   "cell_type": "code",
   "execution_count": 75,
   "id": "ffda3315",
   "metadata": {},
   "outputs": [
    {
     "name": "stdout",
     "output_type": "stream",
     "text": [
      "data science\n"
     ]
    }
   ],
   "source": [
    "def function(num):\n",
    "    try:\n",
    "        print(num.lower())\n",
    "    except Exception as e:\n",
    "            print(e)\n",
    "function(s)"
   ]
  },
  {
   "cell_type": "code",
   "execution_count": null,
   "id": "3d644f07",
   "metadata": {},
   "outputs": [],
   "source": []
  },
  {
   "cell_type": "raw",
   "id": "0cb96330",
   "metadata": {},
   "source": [
    "# title(): Convert string to title case"
   ]
  },
  {
   "cell_type": "code",
   "execution_count": 76,
   "id": "d63a4d81",
   "metadata": {},
   "outputs": [
    {
     "name": "stdout",
     "output_type": "stream",
     "text": [
      "Samir\n"
     ]
    }
   ],
   "source": [
    "value = \"samir\"\n",
    "print(value.title())"
   ]
  },
  {
   "cell_type": "code",
   "execution_count": 77,
   "id": "3a02250e",
   "metadata": {},
   "outputs": [
    {
     "name": "stdout",
     "output_type": "stream",
     "text": [
      "Samir\n"
     ]
    }
   ],
   "source": [
    "def function(variable):\n",
    "    try:\n",
    "        print(variable.title()) \n",
    "    except Exception as e:\n",
    "            print(e)\n",
    "function(value)"
   ]
  },
  {
   "cell_type": "code",
   "execution_count": 80,
   "id": "f10f3930",
   "metadata": {},
   "outputs": [],
   "source": [
    "mystr = \"HELLO JAVA\""
   ]
  },
  {
   "cell_type": "code",
   "execution_count": 81,
   "id": "a190c571",
   "metadata": {},
   "outputs": [
    {
     "name": "stdout",
     "output_type": "stream",
     "text": [
      "Hello Java\n"
     ]
    }
   ],
   "source": [
    "print(mystr.title())"
   ]
  },
  {
   "cell_type": "code",
   "execution_count": 82,
   "id": "e72267a5",
   "metadata": {},
   "outputs": [
    {
     "name": "stdout",
     "output_type": "stream",
     "text": [
      "Hello Java\n"
     ]
    }
   ],
   "source": [
    "def function(variable):\n",
    "    try:\n",
    "        print(variable.title()) \n",
    "    except Exception as e:\n",
    "            print(e)\n",
    "function(mystr)"
   ]
  },
  {
   "cell_type": "code",
   "execution_count": null,
   "id": "f371a8ad",
   "metadata": {},
   "outputs": [],
   "source": []
  },
  {
   "cell_type": "raw",
   "id": "d356e842",
   "metadata": {},
   "source": [
    "#  swapcase() : Converts all uppercase characters to lowercase and vice versa"
   ]
  },
  {
   "cell_type": "code",
   "execution_count": 83,
   "id": "0b9084d8",
   "metadata": {},
   "outputs": [],
   "source": [
    "string = \"python\""
   ]
  },
  {
   "cell_type": "code",
   "execution_count": 85,
   "id": "125d8828",
   "metadata": {},
   "outputs": [
    {
     "data": {
      "text/plain": [
       "'PYTHON'"
      ]
     },
     "execution_count": 85,
     "metadata": {},
     "output_type": "execute_result"
    }
   ],
   "source": [
    "string.swapcase()"
   ]
  },
  {
   "cell_type": "code",
   "execution_count": 86,
   "id": "9e82ef09",
   "metadata": {},
   "outputs": [
    {
     "name": "stdout",
     "output_type": "stream",
     "text": [
      "PYTHON\n"
     ]
    }
   ],
   "source": [
    "def swapcase(case):\n",
    "    try:\n",
    "        print(case.swapcase())\n",
    "    except Exception as e:\n",
    "            print(e)\n",
    "swapcase(string)"
   ]
  },
  {
   "cell_type": "code",
   "execution_count": null,
   "id": "0c5e3ddb",
   "metadata": {},
   "outputs": [],
   "source": []
  },
  {
   "cell_type": "raw",
   "id": "3c4f1e2d",
   "metadata": {},
   "source": [
    "# capitalize () : Converts the first character to uppercase"
   ]
  },
  {
   "cell_type": "code",
   "execution_count": 89,
   "id": "1021e72f",
   "metadata": {},
   "outputs": [],
   "source": [
    "g = \"logged in\""
   ]
  },
  {
   "cell_type": "code",
   "execution_count": 90,
   "id": "4b6568c9",
   "metadata": {},
   "outputs": [
    {
     "name": "stdout",
     "output_type": "stream",
     "text": [
      "Logged in\n"
     ]
    }
   ],
   "source": [
    "print(g.capitalize())"
   ]
  },
  {
   "cell_type": "code",
   "execution_count": 91,
   "id": "a86ee858",
   "metadata": {},
   "outputs": [
    {
     "name": "stdout",
     "output_type": "stream",
     "text": [
      "Logged in\n"
     ]
    }
   ],
   "source": [
    "def capitalize(method):\n",
    "    try:\n",
    "        print(method.capitalize())\n",
    "    except Exception as e:\n",
    "        print(e)\n",
    "capitalize(g)"
   ]
  },
  {
   "cell_type": "code",
   "execution_count": null,
   "id": "aac506d1",
   "metadata": {},
   "outputs": [],
   "source": []
  },
  {
   "cell_type": "raw",
   "id": "49bd557d",
   "metadata": {},
   "source": [
    "# replace() : Replaces all occurrences of a substring with another substring"
   ]
  },
  {
   "cell_type": "code",
   "execution_count": 95,
   "id": "9b5b92ec",
   "metadata": {},
   "outputs": [],
   "source": [
    "data = \"Hello Python.Hello Java.Hello C++\""
   ]
  },
  {
   "cell_type": "code",
   "execution_count": 96,
   "id": "4b53f750",
   "metadata": {},
   "outputs": [
    {
     "name": "stdout",
     "output_type": "stream",
     "text": [
      "Bye Python.Bye Java.Bye C++\n"
     ]
    }
   ],
   "source": [
    "print(data.replace(\"Hello\",\"Bye\"))"
   ]
  },
  {
   "cell_type": "code",
   "execution_count": 97,
   "id": "dffbc2f5",
   "metadata": {},
   "outputs": [
    {
     "name": "stdout",
     "output_type": "stream",
     "text": [
      "Bye Python.Bye Java.Bye C++\n"
     ]
    }
   ],
   "source": [
    "def Replace(method):\n",
    "    try:\n",
    "        print(method.replace(\"Hello\",\"Bye\"))\n",
    "    except Exception as e:\n",
    "        print(e)\n",
    "Replace(data)"
   ]
  },
  {
   "cell_type": "code",
   "execution_count": null,
   "id": "0023280a",
   "metadata": {},
   "outputs": [],
   "source": []
  },
  {
   "cell_type": "raw",
   "id": "ebc7d91c",
   "metadata": {},
   "source": [
    "# center () : Returns a centered string"
   ]
  },
  {
   "cell_type": "code",
   "execution_count": 101,
   "id": "72b80dca",
   "metadata": {},
   "outputs": [],
   "source": [
    "x = \"Hello\""
   ]
  },
  {
   "cell_type": "code",
   "execution_count": 102,
   "id": "67aa07ea",
   "metadata": {},
   "outputs": [],
   "source": [
    "file = x.center(10,\"-\")"
   ]
  },
  {
   "cell_type": "code",
   "execution_count": 103,
   "id": "036a09c0",
   "metadata": {},
   "outputs": [
    {
     "name": "stdout",
     "output_type": "stream",
     "text": [
      "--Hello---\n"
     ]
    }
   ],
   "source": [
    "print(file)"
   ]
  },
  {
   "cell_type": "code",
   "execution_count": 105,
   "id": "a4a4b399",
   "metadata": {},
   "outputs": [
    {
     "name": "stdout",
     "output_type": "stream",
     "text": [
      "--Hello---\n"
     ]
    }
   ],
   "source": [
    "def center(variable):\n",
    "    try:\n",
    "        print(variable)\n",
    "    except Exception as e:\n",
    "        print(e)\n",
    "center(file)"
   ]
  },
  {
   "cell_type": "code",
   "execution_count": null,
   "id": "f596abcf",
   "metadata": {},
   "outputs": [],
   "source": []
  },
  {
   "cell_type": "raw",
   "id": "6c928561",
   "metadata": {},
   "source": [
    "# split : split the string at the specified at the separator,and return a list."
   ]
  },
  {
   "cell_type": "code",
   "execution_count": 110,
   "id": "5ea3ebea",
   "metadata": {},
   "outputs": [
    {
     "name": "stdout",
     "output_type": "stream",
     "text": [
      "['learning', 'python']\n"
     ]
    }
   ],
   "source": [
    "variable = \"learning python\"\n",
    "print(variable.split())"
   ]
  },
  {
   "cell_type": "code",
   "execution_count": 111,
   "id": "55d7e468",
   "metadata": {},
   "outputs": [
    {
     "name": "stdout",
     "output_type": "stream",
     "text": [
      "['learning', 'python']\n"
     ]
    }
   ],
   "source": [
    "def split(classes):\n",
    "    try:\n",
    "        print(classes.split()) \n",
    "    except Exception as e:\n",
    "        print(e)\n",
    "split(variable)"
   ]
  },
  {
   "cell_type": "code",
   "execution_count": null,
   "id": "31ed999f",
   "metadata": {},
   "outputs": [],
   "source": []
  },
  {
   "cell_type": "raw",
   "id": "657d84d8",
   "metadata": {},
   "source": [
    "# isspace() : Returns “True” if all characters in the string are whitespace characters"
   ]
  },
  {
   "cell_type": "code",
   "execution_count": 112,
   "id": "cf567a04",
   "metadata": {},
   "outputs": [],
   "source": [
    "txt = \" \""
   ]
  },
  {
   "cell_type": "code",
   "execution_count": 113,
   "id": "bf7eeb68",
   "metadata": {},
   "outputs": [],
   "source": [
    "y = txt.isspace()"
   ]
  },
  {
   "cell_type": "code",
   "execution_count": 31,
   "id": "abc9f81a",
   "metadata": {},
   "outputs": [
    {
     "name": "stdout",
     "output_type": "stream",
     "text": [
      "True\n"
     ]
    }
   ],
   "source": [
    "print(y)"
   ]
  },
  {
   "cell_type": "code",
   "execution_count": 114,
   "id": "05fe18a7",
   "metadata": {},
   "outputs": [
    {
     "name": "stdout",
     "output_type": "stream",
     "text": [
      "True\n"
     ]
    }
   ],
   "source": [
    "def isspace(method):\n",
    "    try:\n",
    "        print(method)\n",
    "    except Exception as e:\n",
    "        print(e)\n",
    "isspace(y)"
   ]
  },
  {
   "cell_type": "code",
   "execution_count": null,
   "id": "96be2005",
   "metadata": {},
   "outputs": [],
   "source": []
  }
 ],
 "metadata": {
  "kernelspec": {
   "display_name": "Python 3 (ipykernel)",
   "language": "python",
   "name": "python3"
  },
  "language_info": {
   "codemirror_mode": {
    "name": "ipython",
    "version": 3
   },
   "file_extension": ".py",
   "mimetype": "text/x-python",
   "name": "python",
   "nbconvert_exporter": "python",
   "pygments_lexer": "ipython3",
   "version": "3.9.7"
  }
 },
 "nbformat": 4,
 "nbformat_minor": 5
}
