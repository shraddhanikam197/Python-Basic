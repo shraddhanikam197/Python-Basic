{
 "cells": [
  {
   "cell_type": "code",
   "execution_count": 3,
   "id": "d5b0b011",
   "metadata": {},
   "outputs": [],
   "source": [
    "samir=[5000,4500,4000,10000]\n",
    "total_expense=0"
   ]
  },
  {
   "cell_type": "code",
   "execution_count": 4,
   "id": "991c53af",
   "metadata": {},
   "outputs": [
    {
     "name": "stdout",
     "output_type": "stream",
     "text": [
      "5000\n",
      "5000\n",
      "4500\n",
      "9500\n",
      "4000\n",
      "13500\n",
      "10000\n",
      "23500\n"
     ]
    }
   ],
   "source": [
    "for i in samir:\n",
    "    print(i)\n",
    "   #total_expense = total_expense +i\n",
    "    total_expense += i\n",
    "    print(total_expense)\n",
    "    \n",
    "    "
   ]
  },
  {
   "cell_type": "code",
   "execution_count": 26,
   "id": "9a613bac",
   "metadata": {},
   "outputs": [],
   "source": [
    "samir=[5000,4500,4000,10000]"
   ]
  },
  {
   "cell_type": "code",
   "execution_count": 27,
   "id": "56844f01",
   "metadata": {},
   "outputs": [],
   "source": [
    "total_expense = 0"
   ]
  },
  {
   "cell_type": "code",
   "execution_count": 11,
   "id": "5f3a8198",
   "metadata": {},
   "outputs": [
    {
     "name": "stdout",
     "output_type": "stream",
     "text": [
      "47000\n"
     ]
    }
   ],
   "source": [
    "\n",
    "for i in samir:\n",
    "    #total_expense = total_expense + i\n",
    "    total_expense += i\n",
    "print(total_expense)"
   ]
  },
  {
   "cell_type": "raw",
   "id": "e89af8bf",
   "metadata": {},
   "source": [
    "# function(defnation)\n",
    "functions(excution)\n",
    "functions(calling)"
   ]
  },
  {
   "cell_type": "code",
   "execution_count": 5,
   "id": "d8c55b2a",
   "metadata": {},
   "outputs": [],
   "source": [
    "samir = [5000,4000,4500,10000]\n",
    "tejas = [2500,5000,7000,4500]\n",
    "akash = [2500,5000,7000,4500,5000,4500,4000,10000]"
   ]
  },
  {
   "cell_type": "code",
   "execution_count": 12,
   "id": "4d56def2",
   "metadata": {},
   "outputs": [],
   "source": [
    "def expense(name):\n",
    "    total_expense = 0\n",
    "    for i in name:\n",
    "         total_expense += i\n",
    "    print(total_expense)"
   ]
  },
  {
   "cell_type": "code",
   "execution_count": 13,
   "id": "339d948a",
   "metadata": {},
   "outputs": [
    {
     "name": "stdout",
     "output_type": "stream",
     "text": [
      "23500\n"
     ]
    }
   ],
   "source": [
    "expense (samir)"
   ]
  },
  {
   "cell_type": "code",
   "execution_count": 14,
   "id": "b0489635",
   "metadata": {},
   "outputs": [
    {
     "name": "stdout",
     "output_type": "stream",
     "text": [
      "19000\n"
     ]
    }
   ],
   "source": [
    "expense (tejas)"
   ]
  },
  {
   "cell_type": "code",
   "execution_count": 15,
   "id": "2533a173",
   "metadata": {},
   "outputs": [
    {
     "name": "stdout",
     "output_type": "stream",
     "text": [
      "42500\n"
     ]
    }
   ],
   "source": [
    "expense (akash)"
   ]
  },
  {
   "cell_type": "code",
   "execution_count": 26,
   "id": "93dcecf6",
   "metadata": {},
   "outputs": [],
   "source": [
    "def add(a,b,c,d,e):\n",
    "     return a,b,c,d,e"
   ]
  },
  {
   "cell_type": "code",
   "execution_count": 27,
   "id": "312fc968",
   "metadata": {},
   "outputs": [
    {
     "data": {
      "text/plain": [
       "(5, 7, 8, 9, 4)"
      ]
     },
     "execution_count": 27,
     "metadata": {},
     "output_type": "execute_result"
    }
   ],
   "source": [
    "add(5,7,8,9,4)"
   ]
  },
  {
   "cell_type": "code",
   "execution_count": 28,
   "id": "1d4354a2",
   "metadata": {},
   "outputs": [
    {
     "data": {
      "text/plain": [
       "('s', 'sagfdhg', 4.1, 8, 9)"
      ]
     },
     "execution_count": 28,
     "metadata": {},
     "output_type": "execute_result"
    }
   ],
   "source": [
    "add('s',\"sagfdhg\",4.1,8,9)   # string flot int add "
   ]
  },
  {
   "cell_type": "code",
   "execution_count": 29,
   "id": "79ce10cb",
   "metadata": {},
   "outputs": [
    {
     "data": {
      "text/plain": [
       "('abc', 'sam', 'jjk', 'xyz', 'lmn')"
      ]
     },
     "execution_count": 29,
     "metadata": {},
     "output_type": "execute_result"
    }
   ],
   "source": [
    "add('abc','sam','jjk','xyz','lmn')"
   ]
  },
  {
   "cell_type": "code",
   "execution_count": 30,
   "id": "7f30b1af",
   "metadata": {},
   "outputs": [],
   "source": [
    "def add(*a):          #* means i kiti pn add kel tri add hot * mul\n",
    "    return a"
   ]
  },
  {
   "cell_type": "code",
   "execution_count": 31,
   "id": "3bdf3567",
   "metadata": {},
   "outputs": [
    {
     "data": {
      "text/plain": [
       "('sam', 'abc')"
      ]
     },
     "execution_count": 31,
     "metadata": {},
     "output_type": "execute_result"
    }
   ],
   "source": [
    "add('sam','abc')"
   ]
  },
  {
   "cell_type": "code",
   "execution_count": null,
   "id": "cc5d30f1",
   "metadata": {},
   "outputs": [],
   "source": [
    "def add(*args)  # i can enter multiple information "
   ]
  },
  {
   "cell_type": "code",
   "execution_count": null,
   "id": "a58d4e17",
   "metadata": {},
   "outputs": [],
   "source": [
    "def add (*args ,*kwargs)\n",
    "#(*arguments , ** keywordarguments)"
   ]
  },
  {
   "cell_type": "code",
   "execution_count": 50,
   "id": "5af6aa20",
   "metadata": {
    "scrolled": false
   },
   "outputs": [
    {
     "data": {
      "text/plain": [
       "[]"
      ]
     },
     "execution_count": 50,
     "metadata": {},
     "output_type": "execute_result"
    }
   ],
   "source": [
    "l = []\n",
    "l"
   ]
  },
  {
   "cell_type": "code",
   "execution_count": null,
   "id": "24efe518",
   "metadata": {},
   "outputs": [],
   "source": []
  },
  {
   "cell_type": "code",
   "execution_count": 51,
   "id": "cf78c27e",
   "metadata": {},
   "outputs": [
    {
     "data": {
      "text/plain": [
       "[12]"
      ]
     },
     "execution_count": 51,
     "metadata": {},
     "output_type": "execute_result"
    }
   ],
   "source": [
    "l.append(12)\n",
    "l"
   ]
  },
  {
   "cell_type": "code",
   "execution_count": 93,
   "id": "e0b85f61",
   "metadata": {},
   "outputs": [],
   "source": [
    "l=[]\n",
    "def appendd(*a):\n",
    "   # l=[]\n",
    "    for i in a:\n",
    "        l.append(i)\n",
    "    return l"
   ]
  },
  {
   "cell_type": "code",
   "execution_count": 94,
   "id": "353c70d6",
   "metadata": {},
   "outputs": [
    {
     "data": {
      "text/plain": [
       "[1, 2, 3, 4]"
      ]
     },
     "execution_count": 94,
     "metadata": {},
     "output_type": "execute_result"
    }
   ],
   "source": [
    "appendd(1,2,3,4)"
   ]
  },
  {
   "cell_type": "code",
   "execution_count": 95,
   "id": "6e134ec9",
   "metadata": {},
   "outputs": [
    {
     "data": {
      "text/plain": [
       "[1, 2, 3, 4, 5, 6, 7, 8]"
      ]
     },
     "execution_count": 95,
     "metadata": {},
     "output_type": "execute_result"
    }
   ],
   "source": [
    "appendd(5,6,7,8)"
   ]
  },
  {
   "cell_type": "code",
   "execution_count": null,
   "id": "7c7dc8e5",
   "metadata": {},
   "outputs": [],
   "source": []
  }
 ],
 "metadata": {
  "kernelspec": {
   "display_name": "Python 3 (ipykernel)",
   "language": "python",
   "name": "python3"
  },
  "language_info": {
   "codemirror_mode": {
    "name": "ipython",
    "version": 3
   },
   "file_extension": ".py",
   "mimetype": "text/x-python",
   "name": "python",
   "nbconvert_exporter": "python",
   "pygments_lexer": "ipython3",
   "version": "3.9.7"
  }
 },
 "nbformat": 4,
 "nbformat_minor": 5
}
